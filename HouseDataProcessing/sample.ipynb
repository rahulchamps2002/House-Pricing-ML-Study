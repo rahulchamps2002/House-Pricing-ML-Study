{
 "cells": [
  {
   "metadata": {},
   "cell_type": "markdown",
   "source": [
    "# This is a sample Jupyter Notebook\n",
    "\n",
    "Below is an example of a code cell. \n",
    "Put your cursor into the cell and press Shift+Enter to execute it and select the next one, or click !here goes the icon of the corresponding button in the gutter! button.\n",
    "To debug a cell, press Alt+Shift+Enter, or click !here goes the icon of the corresponding button in the gutter! button.\n",
    "\n",
    "Press Double Shift to search everywhere for classes, files, tool windows, actions, and settings.\n",
    "\n",
    "To learn more about Jupyter Notebooks in PyCharm, see [help](https://www.jetbrains.com/help/pycharm/jupyter-notebook-support.html).\n",
    "For an overview of PyCharm, go to Help -> Learn IDE features or refer to [our documentation](https://www.jetbrains.com/help/pycharm/getting-started.html)."
   ],
   "id": "8a77807f92f26ee"
  },
  {
   "metadata": {
    "ExecuteTime": {
     "end_time": "2024-07-08T20:02:46.547802Z",
     "start_time": "2024-07-08T20:02:46.469618Z"
    }
   },
   "cell_type": "code",
   "source": [
    "import pandas as pd\n",
    "import numpy as np\n",
    "\n",
    "train_data = pd.read_csv('home-data-for-ml-course/train.csv')"
   ],
   "id": "fbc121e30a2defb3",
   "outputs": [
    {
     "data": {
      "text/plain": [
       "\"\\nimport pandas as pd\\nimport numpy as np\\nimport matplotlib.pyplot as plt\\nfrom sklearn.model_selection import train_test_split\\nfrom sklearn.linear_model import LinearRegression\\nfrom sklearn.metrics import mean_squared_error\\n\\ntrain_data = pd.read_csv('home-data-for-ml-course/train.csv')\\ntest_data = pd.read_csv('home-data-for-ml-course/test.csv')\\n\\nmissingvalues = train_data.isnull().sum()\\nmissingvalues = missingvalues[missingvalues > 0]\\n\\ntrain_data.drop(columns=['Alley', 'PoolQC', 'Fence', 'MiscFeature'])\\n\\nnum_cols = train_data.select_dtypes(include=[np.number]).columns\\ntrain_data[num_cols] = train_data[num_cols].fillna(train_data[num_cols].median())\\n\\ncat_cols = train_data.select_dtypes(include=[object]).columns\\ntrain_data[cat_cols] = train_data[cat_cols].fillna(train_data[cat_cols].mode().iloc[0])\\n\\nX = train_data.drop(columns=['Id', 'SalePrice'])\\nY = train_data['SalePrice']\\n\\ntest_data = test_data.drop(columns=['Alley', 'PoolQC', 'Fence', 'MiscFeature'])\\ntest_data[num_cols] = test_data[num_cols].fillna(test_data[num_cols].median())\\ntest_data[cat_cols] = test_data[cat_cols].fillna(test_data[cat_cols].mode().iloc[0])\\npd.get_dummies(test_data)\\n\\nX, test_data = X.align(test_data, join='left', axis=1)\\ntest_data = test_data.fillna(0)\""
      ]
     },
     "execution_count": 5,
     "metadata": {},
     "output_type": "execute_result"
    }
   ],
   "execution_count": 5
  }
 ],
 "metadata": {
  "kernelspec": {
   "display_name": "Python 3",
   "language": "python",
   "name": "python3"
  },
  "language_info": {
   "codemirror_mode": {
    "name": "ipython",
    "version": 2
   },
   "file_extension": ".py",
   "mimetype": "text/x-python",
   "name": "python",
   "nbconvert_exporter": "python",
   "pygments_lexer": "ipython2",
   "version": "2.7.6"
  }
 },
 "nbformat": 4,
 "nbformat_minor": 5
}
